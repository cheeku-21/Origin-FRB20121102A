{
 "cells": [
  {
   "cell_type": "code",
   "execution_count": 1,
   "metadata": {},
   "outputs": [],
   "source": [
    "import pandas as pd\n",
    "import numpy as np"
   ]
  },
  {
   "cell_type": "code",
   "execution_count": 2,
   "metadata": {},
   "outputs": [
    {
     "name": "stdout",
     "output_type": "stream",
     "text": [
      "rows:1027, cols:33, sum of subburstsubburst    1027\n",
      "dtype: int64\n"
     ]
    },
    {
     "data": {
      "text/html": [
       "<div>\n",
       "<style scoped>\n",
       "    .dataframe tbody tr th:only-of-type {\n",
       "        vertical-align: middle;\n",
       "    }\n",
       "\n",
       "    .dataframe tbody tr th {\n",
       "        vertical-align: top;\n",
       "    }\n",
       "\n",
       "    .dataframe thead th {\n",
       "        text-align: right;\n",
       "    }\n",
       "</style>\n",
       "<table border=\"1\" class=\"dataframe\">\n",
       "  <thead>\n",
       "    <tr style=\"text-align: right;\">\n",
       "      <th></th>\n",
       "      <th>burst_id</th>\n",
       "      <th>subburst</th>\n",
       "      <th>TOA / MJD</th>\n",
       "      <th>A</th>\n",
       "      <th>error A</th>\n",
       "      <th>d / (ms/MHz)</th>\n",
       "      <th>error d  / (ms/MHz)</th>\n",
       "      <th>t_0 / s</th>\n",
       "      <th>error t_0 / s</th>\n",
       "      <th>sig_t / ms</th>\n",
       "      <th>...</th>\n",
       "      <th>nu_0,1D / MHz</th>\n",
       "      <th>error nu_0,1D / MHz</th>\n",
       "      <th>sig_nu,1D / MHz</th>\n",
       "      <th>error sig_nu,1D / MHz</th>\n",
       "      <th>Class</th>\n",
       "      <th>Diffuse/Tail</th>\n",
       "      <th>Affected by dropouts</th>\n",
       "      <th>Fluence / Jy ms</th>\n",
       "      <th>Downsampling</th>\n",
       "      <th>t_fit / ms</th>\n",
       "    </tr>\n",
       "  </thead>\n",
       "  <tbody>\n",
       "    <tr>\n",
       "      <th>0</th>\n",
       "      <td>A1</td>\n",
       "      <td>sb1</td>\n",
       "      <td>58409.356497</td>\n",
       "      <td>0.637494</td>\n",
       "      <td>0.295361</td>\n",
       "      <td>-0.004753</td>\n",
       "      <td>0.003380</td>\n",
       "      <td>548.963991</td>\n",
       "      <td>0.000427</td>\n",
       "      <td>0.656069</td>\n",
       "      <td>...</td>\n",
       "      <td>1428.671308</td>\n",
       "      <td>6.701915</td>\n",
       "      <td>122.387769</td>\n",
       "      <td>6.808041</td>\n",
       "      <td>default</td>\n",
       "      <td>False</td>\n",
       "      <td>False</td>\n",
       "      <td>0.141160</td>\n",
       "      <td>8.0</td>\n",
       "      <td>5.0</td>\n",
       "    </tr>\n",
       "    <tr>\n",
       "      <th>1</th>\n",
       "      <td>A2</td>\n",
       "      <td>sb1</td>\n",
       "      <td>58409.364396</td>\n",
       "      <td>0.561516</td>\n",
       "      <td>0.379457</td>\n",
       "      <td>-0.005331</td>\n",
       "      <td>0.008158</td>\n",
       "      <td>1231.323394</td>\n",
       "      <td>0.001112</td>\n",
       "      <td>0.630929</td>\n",
       "      <td>...</td>\n",
       "      <td>1688.250605</td>\n",
       "      <td>14.049883</td>\n",
       "      <td>90.254798</td>\n",
       "      <td>13.136931</td>\n",
       "      <td>default</td>\n",
       "      <td>False</td>\n",
       "      <td>False</td>\n",
       "      <td>0.070882</td>\n",
       "      <td>8.0</td>\n",
       "      <td>5.0</td>\n",
       "    </tr>\n",
       "    <tr>\n",
       "      <th>2</th>\n",
       "      <td>A3</td>\n",
       "      <td>sb1</td>\n",
       "      <td>58409.370810</td>\n",
       "      <td>0.154437</td>\n",
       "      <td>0.313654</td>\n",
       "      <td>-0.004407</td>\n",
       "      <td>0.010336</td>\n",
       "      <td>1785.457508</td>\n",
       "      <td>0.002116</td>\n",
       "      <td>0.522891</td>\n",
       "      <td>...</td>\n",
       "      <td>1971.947401</td>\n",
       "      <td>964.056579</td>\n",
       "      <td>369.003364</td>\n",
       "      <td>408.545267</td>\n",
       "      <td>default</td>\n",
       "      <td>False</td>\n",
       "      <td>NaN</td>\n",
       "      <td>0.043163</td>\n",
       "      <td>8.0</td>\n",
       "      <td>5.0</td>\n",
       "    </tr>\n",
       "    <tr>\n",
       "      <th>3</th>\n",
       "      <td>A4</td>\n",
       "      <td>sb1</td>\n",
       "      <td>58409.370810</td>\n",
       "      <td>0.173479</td>\n",
       "      <td>0.281074</td>\n",
       "      <td>0.012490</td>\n",
       "      <td>0.046489</td>\n",
       "      <td>1785.471006</td>\n",
       "      <td>0.003773</td>\n",
       "      <td>1.264357</td>\n",
       "      <td>...</td>\n",
       "      <td>2236.805558</td>\n",
       "      <td>2297.288777</td>\n",
       "      <td>477.235798</td>\n",
       "      <td>774.166210</td>\n",
       "      <td>default</td>\n",
       "      <td>False</td>\n",
       "      <td>False</td>\n",
       "      <td>0.046451</td>\n",
       "      <td>8.0</td>\n",
       "      <td>5.0</td>\n",
       "    </tr>\n",
       "    <tr>\n",
       "      <th>4</th>\n",
       "      <td>A5</td>\n",
       "      <td>sb1</td>\n",
       "      <td>58409.376554</td>\n",
       "      <td>0.625870</td>\n",
       "      <td>0.801458</td>\n",
       "      <td>-0.000721</td>\n",
       "      <td>0.008955</td>\n",
       "      <td>2281.759018</td>\n",
       "      <td>0.001014</td>\n",
       "      <td>0.635353</td>\n",
       "      <td>...</td>\n",
       "      <td>1762.927644</td>\n",
       "      <td>51.751408</td>\n",
       "      <td>157.787194</td>\n",
       "      <td>29.433273</td>\n",
       "      <td>multi</td>\n",
       "      <td>False</td>\n",
       "      <td>False</td>\n",
       "      <td>0.457835</td>\n",
       "      <td>8.0</td>\n",
       "      <td>5.0</td>\n",
       "    </tr>\n",
       "  </tbody>\n",
       "</table>\n",
       "<p>5 rows × 33 columns</p>\n",
       "</div>"
      ],
      "text/plain": [
       "  burst_id subburst     TOA / MJD         A   error A  d / (ms/MHz)  \\\n",
       "0       A1      sb1  58409.356497  0.637494  0.295361     -0.004753   \n",
       "1       A2      sb1  58409.364396  0.561516  0.379457     -0.005331   \n",
       "2       A3      sb1  58409.370810  0.154437  0.313654     -0.004407   \n",
       "3       A4      sb1  58409.370810  0.173479  0.281074      0.012490   \n",
       "4       A5      sb1  58409.376554  0.625870  0.801458     -0.000721   \n",
       "\n",
       "   error d  / (ms/MHz)      t_0 / s  error t_0 / s  sig_t / ms  ...  \\\n",
       "0             0.003380   548.963991       0.000427    0.656069  ...   \n",
       "1             0.008158  1231.323394       0.001112    0.630929  ...   \n",
       "2             0.010336  1785.457508       0.002116    0.522891  ...   \n",
       "3             0.046489  1785.471006       0.003773    1.264357  ...   \n",
       "4             0.008955  2281.759018       0.001014    0.635353  ...   \n",
       "\n",
       "   nu_0,1D / MHz  error nu_0,1D / MHz  sig_nu,1D / MHz  error sig_nu,1D / MHz  \\\n",
       "0    1428.671308             6.701915       122.387769               6.808041   \n",
       "1    1688.250605            14.049883        90.254798              13.136931   \n",
       "2    1971.947401           964.056579       369.003364             408.545267   \n",
       "3    2236.805558          2297.288777       477.235798             774.166210   \n",
       "4    1762.927644            51.751408       157.787194              29.433273   \n",
       "\n",
       "     Class  Diffuse/Tail  Affected by dropouts  Fluence / Jy ms  Downsampling  \\\n",
       "0  default         False                 False         0.141160           8.0   \n",
       "1  default         False                 False         0.070882           8.0   \n",
       "2  default         False                   NaN         0.043163           8.0   \n",
       "3  default         False                 False         0.046451           8.0   \n",
       "4    multi         False                 False         0.457835           8.0   \n",
       "\n",
       "   t_fit / ms  \n",
       "0         5.0  \n",
       "1         5.0  \n",
       "2         5.0  \n",
       "3         5.0  \n",
       "4         5.0  \n",
       "\n",
       "[5 rows x 33 columns]"
      ]
     },
     "execution_count": 2,
     "metadata": {},
     "output_type": "execute_result"
    }
   ],
   "source": [
    "df = pd.read_csv(\"../datasets/bursts.csv\")\n",
    "print(f\"rows:{df.shape[0]}, cols:{df.shape[1]}, sum of subburst{df[['subburst']].count()}\")\n",
    "df.head()"
   ]
  },
  {
   "cell_type": "code",
   "execution_count": 3,
   "metadata": {},
   "outputs": [
    {
     "name": "stdout",
     "output_type": "stream",
     "text": [
      "rows:1027, cols:33, sum of subburstsubburst    1027\n",
      "dtype: int64\n"
     ]
    }
   ],
   "source": [
    "df_filtered = df[df['A']>0]\n",
    "print(f\"rows:{df_filtered.shape[0]}, cols:{df_filtered.shape[1]}, sum of subburst{df_filtered[['subburst']].count()}\")"
   ]
  },
  {
   "cell_type": "code",
   "execution_count": 4,
   "metadata": {},
   "outputs": [
    {
     "name": "stdout",
     "output_type": "stream",
     "text": [
      "['burst_id', 'subburst', 'TOA / MJD', 'A', 'error A', 'd / (ms/MHz)', 'error d  / (ms/MHz)', 't_0 / s', 'error t_0 / s', 'sig_t / ms', 'error sig_t / ms', 'nu_0 / MHz', 'error nu_0 / MHz', 'sig_nu / MHz', 'error sig_nu / MHz', 'Scaled Energy / erg', 'TOA_1D / MJD', 'A_1D', 'error A_1D', 't_0,1D / s', 'error t_0,1D / s', 'sig_t,1D / ms', 'error sig_t,1D / ms', 'nu_0,1D / MHz', 'error nu_0,1D / MHz', 'sig_nu,1D / MHz', 'error sig_nu,1D / MHz', 'Class', 'Diffuse/Tail', 'Affected by dropouts', 'Fluence / Jy ms', 'Downsampling', 't_fit / ms']\n"
     ]
    }
   ],
   "source": [
    "print(list(df.columns))"
   ]
  },
  {
   "cell_type": "code",
   "execution_count": 5,
   "metadata": {},
   "outputs": [
    {
     "name": "stderr",
     "output_type": "stream",
     "text": [
      "c:\\Users\\Sudha\\OneDrive\\Documents\\GitHub\\Projects\\Origin FRB20121102A\\Project_env\\Lib\\site-packages\\pandas\\core\\arraylike.py:399: RuntimeWarning: invalid value encountered in log10\n",
      "  result = getattr(ufunc, method)(*inputs, **kwargs)\n",
      "c:\\Users\\Sudha\\OneDrive\\Documents\\GitHub\\Projects\\Origin FRB20121102A\\Project_env\\Lib\\site-packages\\pandas\\core\\arraylike.py:399: RuntimeWarning: invalid value encountered in log10\n",
      "  result = getattr(ufunc, method)(*inputs, **kwargs)\n",
      "c:\\Users\\Sudha\\OneDrive\\Documents\\GitHub\\Projects\\Origin FRB20121102A\\Project_env\\Lib\\site-packages\\pandas\\core\\arraylike.py:399: RuntimeWarning: invalid value encountered in log10\n",
      "  result = getattr(ufunc, method)(*inputs, **kwargs)\n"
     ]
    }
   ],
   "source": [
    "df['log_10 A'] = np.log10(df['A'])\n",
    "df['log_10 Fluence'] = np.log10(df['Fluence / Jy ms'])\n",
    "df['log_10 Scaled Energy'] = np.log10(df['Scaled Energy / erg'])\n",
    "df['log_10 sig_nu'] = np.log10(df['sig_nu / MHz'])"
   ]
  },
  {
   "cell_type": "code",
   "execution_count": 6,
   "metadata": {},
   "outputs": [
    {
     "data": {
      "text/html": [
       "<div>\n",
       "<style scoped>\n",
       "    .dataframe tbody tr th:only-of-type {\n",
       "        vertical-align: middle;\n",
       "    }\n",
       "\n",
       "    .dataframe tbody tr th {\n",
       "        vertical-align: top;\n",
       "    }\n",
       "\n",
       "    .dataframe thead th {\n",
       "        text-align: right;\n",
       "    }\n",
       "</style>\n",
       "<table border=\"1\" class=\"dataframe\">\n",
       "  <thead>\n",
       "    <tr style=\"text-align: right;\">\n",
       "      <th></th>\n",
       "      <th>A</th>\n",
       "      <th>sig_nu / MHz</th>\n",
       "      <th>nu_0 / MHz</th>\n",
       "      <th>d / (ms/MHz)</th>\n",
       "      <th>Fluence / Jy ms</th>\n",
       "      <th>sig_t / ms</th>\n",
       "      <th>log_10 Scaled Energy</th>\n",
       "    </tr>\n",
       "  </thead>\n",
       "  <tbody>\n",
       "    <tr>\n",
       "      <th>0</th>\n",
       "      <td>0.637494</td>\n",
       "      <td>131.520805</td>\n",
       "      <td>1430.229581</td>\n",
       "      <td>-0.004753</td>\n",
       "      <td>0.141160</td>\n",
       "      <td>0.656069</td>\n",
       "      <td>38.351973</td>\n",
       "    </tr>\n",
       "    <tr>\n",
       "      <th>1</th>\n",
       "      <td>0.561516</td>\n",
       "      <td>106.607351</td>\n",
       "      <td>1700.455030</td>\n",
       "      <td>-0.005331</td>\n",
       "      <td>0.070882</td>\n",
       "      <td>0.630929</td>\n",
       "      <td>38.112288</td>\n",
       "    </tr>\n",
       "    <tr>\n",
       "      <th>2</th>\n",
       "      <td>0.154437</td>\n",
       "      <td>162.373375</td>\n",
       "      <td>1576.590370</td>\n",
       "      <td>-0.004407</td>\n",
       "      <td>0.043163</td>\n",
       "      <td>0.522891</td>\n",
       "      <td>37.894769</td>\n",
       "    </tr>\n",
       "    <tr>\n",
       "      <th>3</th>\n",
       "      <td>0.173479</td>\n",
       "      <td>82.183029</td>\n",
       "      <td>1687.044344</td>\n",
       "      <td>0.012490</td>\n",
       "      <td>0.046451</td>\n",
       "      <td>1.264357</td>\n",
       "      <td>37.912614</td>\n",
       "    </tr>\n",
       "    <tr>\n",
       "      <th>4</th>\n",
       "      <td>0.625870</td>\n",
       "      <td>146.305856</td>\n",
       "      <td>1741.400239</td>\n",
       "      <td>-0.000721</td>\n",
       "      <td>0.457835</td>\n",
       "      <td>0.635353</td>\n",
       "      <td>36.449133</td>\n",
       "    </tr>\n",
       "  </tbody>\n",
       "</table>\n",
       "</div>"
      ],
      "text/plain": [
       "          A  sig_nu / MHz   nu_0 / MHz  d / (ms/MHz)  Fluence / Jy ms  \\\n",
       "0  0.637494    131.520805  1430.229581     -0.004753         0.141160   \n",
       "1  0.561516    106.607351  1700.455030     -0.005331         0.070882   \n",
       "2  0.154437    162.373375  1576.590370     -0.004407         0.043163   \n",
       "3  0.173479     82.183029  1687.044344      0.012490         0.046451   \n",
       "4  0.625870    146.305856  1741.400239     -0.000721         0.457835   \n",
       "\n",
       "   sig_t / ms  log_10 Scaled Energy  \n",
       "0    0.656069             38.351973  \n",
       "1    0.630929             38.112288  \n",
       "2    0.522891             37.894769  \n",
       "3    1.264357             37.912614  \n",
       "4    0.635353             36.449133  "
      ]
     },
     "execution_count": 6,
     "metadata": {},
     "output_type": "execute_result"
    }
   ],
   "source": [
    "df_properties = df[['A','sig_nu / MHz', 'nu_0 / MHz', 'd / (ms/MHz)', 'Fluence / Jy ms' , 'sig_t / ms','log_10 Scaled Energy']]\n",
    "df_properties.head()"
   ]
  },
  {
   "cell_type": "code",
   "execution_count": 7,
   "metadata": {},
   "outputs": [],
   "source": [
    "df_properties = df_properties.dropna()"
   ]
  },
  {
   "cell_type": "code",
   "execution_count": 10,
   "metadata": {},
   "outputs": [
    {
     "name": "stdout",
     "output_type": "stream",
     "text": [
      "rows :1021 , columns : 7\n"
     ]
    }
   ],
   "source": [
    "print(f\"rows :{df_properties.shape[0]} , columns : {df_properties.shape[1]}\")"
   ]
  },
  {
   "cell_type": "code",
   "execution_count": null,
   "metadata": {},
   "outputs": [],
   "source": [
    "df_properties.to_csv(r\"properties.csv\")"
   ]
  }
 ],
 "metadata": {
  "kernelspec": {
   "display_name": "Project_env",
   "language": "python",
   "name": "python3"
  },
  "language_info": {
   "codemirror_mode": {
    "name": "ipython",
    "version": 3
   },
   "file_extension": ".py",
   "mimetype": "text/x-python",
   "name": "python",
   "nbconvert_exporter": "python",
   "pygments_lexer": "ipython3",
   "version": "3.11.3"
  }
 },
 "nbformat": 4,
 "nbformat_minor": 2
}
